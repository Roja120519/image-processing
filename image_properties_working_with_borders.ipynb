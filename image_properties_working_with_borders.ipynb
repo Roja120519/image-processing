{
 "cells": [
  {
   "cell_type": "markdown",
   "metadata": {},
   "source": [
    "### images and properties and working with borders\n",
    "- Access pixel values and modify them\n",
    "    - we can access a pixel by using row and column coordinates\n",
    "        - it will give out as 3 values in form of (blue,green,red)\n",
    "    - We can modify pixel as the same by giving (blue,green,red) values\n",
    "  \n",
    "- Image properties\n",
    "    - shape\n",
    "    - dtype\n",
    "    - size\n",
    "    - resize\n",
    "\n",
    "- Extracting region of image (ROI)\n",
    "- Splitting and merging image channerls\n",
    "    - we have 3 channels\n",
    "        - Blue,Green,Red\n",
    "            - cv2.split(img)\n",
    "         - It is time taking process\n",
    "    - We can also merge those channels by using \n",
    "        - cv2.merge(b,g,r)\n",
    "- Accessing colors without splitting and change those color values\n",
    "- Border for images\n",
    "    - Arguments required are\n",
    "        - input image\n",
    "        - Top, Bottom, Left, Right\n",
    "        - Border Type\n",
    "        - value - Color of border if border type is cv2.BORDER_CONSTANT\n",
    "    - Border Types\n",
    "        - cv2.BORDER_CONSTANT - Adds a constant colored border. The value should be given as next argument.\n",
    "        - cv2.BORDER_REFLECT - Border will be mirror reflection of the border elements, like this : fedcba|abcdefgh|hgfedcb\n",
    "        - cv2.BORDER_REFLECT_101 or cv2.BORDER_DEFAULT - Same as above, but with a slight change, like this :                  gfedcb|abcdefgh|gfedcba\n",
    "        - cv2.BORDER_REPLICATE - Last element is replicated throughout, like this: aaaaaa|abcdefgh|hhhhhhh\n",
    "        - cv2.BORDER_WRAP - Can’t explain, it will look like this : cdefgh|abcdefgh|abcdefg\n",
    "\n",
    "\n"
   ]
  },
  {
   "cell_type": "code",
   "execution_count": 8,
   "metadata": {},
   "outputs": [
    {
     "name": "stdout",
     "output_type": "stream",
     "text": [
      "[121 115 123]\n",
      "[255 255 255]\n"
     ]
    }
   ],
   "source": [
    "#Access pixel values and modify them\n",
    "\n",
    "import cv2\n",
    "import numpy as np\n",
    "img=cv2.imread(\"standard_test_images\\\\standard_test_images\\\\1.tiff\")\n",
    "pixel=img[50,50]         # To access a (50,50) pixel value ..(Color value it will print)\n",
    "cv2.imshow(\"img1\",img)\n",
    "print(pixel)\n",
    "\n",
    "img[50,50]=[255,255,255]\n",
    "print(img[50,50])\n",
    "cv2.imshow(\"img\",img)\n",
    "cv2.waitKey(0)\n",
    "cv2.destroyAllWindows()"
   ]
  },
  {
   "cell_type": "code",
   "execution_count": 11,
   "metadata": {},
   "outputs": [
    {
     "name": "stdout",
     "output_type": "stream",
     "text": [
      "138\n"
     ]
    },
    {
     "data": {
      "text/plain": [
       "100"
      ]
     },
     "execution_count": 11,
     "metadata": {},
     "output_type": "execute_result"
    }
   ],
   "source": [
    "# accessing RED value\n",
    "\n",
    "import cv2\n",
    "import numpy as np\n",
    "img=cv2.imread(\"standard_test_images\\\\standard_test_images\\\\1.tiff\")\n",
    "\n",
    "red=img.item(100,100,2)\n",
    "print(red)\n",
    "# modifying RED value\n",
    "img.itemset((10,10,2),100)\n",
    "img.item(10,10,2)\n"
   ]
  },
  {
   "cell_type": "code",
   "execution_count": 8,
   "metadata": {},
   "outputs": [
    {
     "name": "stdout",
     "output_type": "stream",
     "text": [
      "Image shape is  (256, 256, 3)\n",
      "Image size is  196608\n",
      "Image datatype is  uint8\n",
      "Image size afteer changing it's size  120000\n"
     ]
    }
   ],
   "source": [
    "# Image properties\n",
    "\n",
    "import cv2\n",
    "import numpy as np\n",
    "img=cv2.imread(\"standard_test_images\\\\standard_test_images\\\\1.tiff\")\n",
    "print(\"Image shape is \",img.shape)\n",
    "print(\"Image size is \",img.size)\n",
    "\n",
    "print(\"Image datatype is \",img.dtype)\n",
    "img=cv2.resize(img,(200,200))\n",
    "print(\"Image size afteer changing it's size \",img.size)"
   ]
  },
  {
   "cell_type": "code",
   "execution_count": 3,
   "metadata": {},
   "outputs": [],
   "source": [
    "# Extracting ROI (region of image)\n",
    "\n",
    "import cv2\n",
    "import numpy as np\n",
    "img=cv2.imread(\"standard_test_images\\\\standard_test_images\\\\1.tiff\")\n",
    "\n",
    "ROI=img[10:100 ,100:200]\n",
    "img[0:90 , 10:110]=ROI\n",
    "cv2.imshow(\"img\",img)\n",
    "cv2.waitKey(0)\n",
    "cv2.destroyAllWindows()"
   ]
  },
  {
   "cell_type": "code",
   "execution_count": 14,
   "metadata": {},
   "outputs": [
    {
     "name": "stdout",
     "output_type": "stream",
     "text": [
      "[[115 103 104 ... 232 228 236]\n",
      " [123 101 104 ... 233 226 239]\n",
      " [115 104 103 ... 232 227 235]\n",
      " ...\n",
      " [178 103  98 ... 235 222 243]\n",
      " [180 101 101 ... 237 223 243]\n",
      " [  0   0   9 ... 143 143 143]]\n",
      "[[  0  61  60 ... 254 254 237]\n",
      " [  0  62  63 ... 254 254 240]\n",
      " [  0  60  57 ... 253 254 237]\n",
      " ...\n",
      " [  0  69  66 ... 248 254 248]\n",
      " [  0  66  67 ... 250 254 249]\n",
      " [197 199 199 ...  80  79  70]]\n"
     ]
    }
   ],
   "source": [
    "# Image splitting and merging\n",
    "import cv2\n",
    "import numpy as np\n",
    "img=cv2.imread(\"standard_test_images\\\\standard_test_images\\\\1.tiff\")\n",
    "cv2.imshow(\"img\",img)\n",
    "b,g,r=cv2.split(img)\n",
    "print(b)\n",
    "print(g)\n",
    "img=cv2.merge((g,b,r))\n",
    "cv2.imshow(\"img_merge\",img)\n",
    "cv2.waitKey(0)\n",
    "cv2.destroyAllWindows()"
   ]
  },
  {
   "cell_type": "code",
   "execution_count": 21,
   "metadata": {},
   "outputs": [
    {
     "name": "stdout",
     "output_type": "stream",
     "text": [
      "[[115 103 104 ... 232 228 236]\n",
      " [123 101 104 ... 233 226 239]\n",
      " [115 104 103 ... 232 227 235]\n",
      " ...\n",
      " [178 103  98 ... 235 222 243]\n",
      " [180 101 101 ... 237 223 243]\n",
      " [  0   0   9 ... 143 143 143]]\n"
     ]
    }
   ],
   "source": [
    "# Accessing 3 colors without splitting image and change the color values \n",
    "import cv2\n",
    "import numpy as np\n",
    "\n",
    "img=cv2.imread(\"standard_test_images\\\\standard_test_images\\\\1.tiff\")\n",
    "# Accessing blue values\n",
    "b=img[:,:,0]\n",
    "cv2.imshow(\"img\",img)\n",
    "# We can directly accees colors without splitting like this 0 -> blue  1 -> Green 2 -> Red\n",
    "# Accessign all red values and replce with 0 directly\n",
    "img[:,:,2]=0\n",
    "print(b)\n",
    "cv2.imshow(\"red_values_are_zero\",img)\n",
    "cv2.waitKey(0)\n",
    "cv2.destroyAllWindows()\n"
   ]
  },
  {
   "cell_type": "code",
   "execution_count": null,
   "metadata": {},
   "outputs": [],
   "source": []
  },
  {
   "cell_type": "code",
   "execution_count": 35,
   "metadata": {},
   "outputs": [
    {
     "data": {
      "image/png": "[encoded data removed]",
      "text/plain": [
       "<Figure size 432x288 with 5 Axes>"
      ]
     },
     "metadata": {},
     "output_type": "display_data"
    }
   ],
   "source": [
    "# Working with borders\n",
    "\n",
    "import cv2\n",
    "import numpy as np\n",
    "from matplotlib import pyplot as plt\n",
    "\n",
    "BLUE = [255,0,0]\n",
    "\n",
    "img1 = cv2.imread(\"standard_test_images\\\\standard_test_images\\\\1.tiff\")\n",
    "\n",
    "replicate = cv2.copyMakeBorder(img1,20,20,20,20,cv2.BORDER_REPLICATE)\n",
    "reflect = cv2.copyMakeBorder(img1,5,10,5,10,cv2.BORDER_REFLECT)\n",
    "reflect101 = cv2.copyMakeBorder(img1,10,10,10,10,cv2.BORDER_REFLECT_101)\n",
    "wrap = cv2.copyMakeBorder(img1,20,10,20,0,cv2.BORDER_WRAP)\n",
    "constant= cv2.copyMakeBorder(img1,15,10,15,10,cv2.BORDER_CONSTANT,value=BLUE)\n",
    "names=[replicate,reflect,reflect101,wrap,constant]\n",
    "titles=['replicate','reflect','reflect101','wrap','constant']\n",
    "for i in range(0,len(names),1):\n",
    "    plt.subplot(2,5,i+1)\n",
    "    plt.imshow(names[i],'gray')\n",
    "    plt.title(titles[i])\n",
    "    plt.xticks([]),plt.yticks([])\n",
    "    \n",
    "    cv2.imshow(titles[i],names[i])\n",
    "plt.show()\n",
    "cv2.waitKey(0)\n",
    "cv2.destroyAllWindows()"
   ]
  },
  {
   "cell_type": "code",
   "execution_count": null,
   "metadata": {},
   "outputs": [],
   "source": []
  },
  {
   "cell_type": "code",
   "execution_count": null,
   "metadata": {},
   "outputs": [],
   "source": []
  },
  {
   "cell_type": "raw",
   "metadata": {},
   "source": []
  }
 ],
 "metadata": {
  "kernelspec": {
   "display_name": "Python 3",
   "language": "python",
   "name": "python3"
  },
  "language_info": {
   "codemirror_mode": {
    "name": "ipython",
    "version": 3
   },
   "file_extension": ".py",
   "mimetype": "text/x-python",
   "name": "python",
   "nbconvert_exporter": "python",
   "pygments_lexer": "ipython3",
   "version": "3.7.1"
  }
 },
 "nbformat": 4,
 "nbformat_minor": 2
}
