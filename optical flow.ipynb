{
 "cells": [
  {
   "cell_type": "markdown",
   "metadata": {},
   "source": [
    "### Optical flow using Lucas-Kanade algorithm"
   ]
  },
  {
   "cell_type": "markdown",
   "metadata": {},
   "source": [
    "- developed by Bruce D.Lucas and Takeo Kanade\n",
    "- it assumes that the flow is essentially constant in a local neighbouthood of the pixel under consideration, and solves the basic optical flow equations for all the pixels in thatneighbourhood by the ;east square criterion.\n",
    "\n"
   ]
  },
  {
   "cell_type": "code",
   "execution_count": 1,
   "metadata": {},
   "outputs": [],
   "source": [
    "import cv2\n",
    "import numpy as np\n",
    "import matplotlib.pyplot as plt"
   ]
  },
  {
   "cell_type": "code",
   "execution_count": 2,
   "metadata": {},
   "outputs": [],
   "source": [
    "def select_point(event,x,y,flags,params):\n",
    "    global point, point_selected,old_points\n",
    "    if event==cv2.EVENT_LBUTTONDOWN:\n",
    "        point=(x,y)\n",
    "        point_selected=True\n",
    "        old_points=np.array([[x,y]],dtype=np.float32)\n",
    "cv2.namedWindow(\"Video\")\n",
    "cv2.setMouseCallback(\"Video\",select_point)\n",
    "        \n",
    "point_selected=False\n",
    "point=()\n",
    "old_points=np.array([[]])\n",
    "\n",
    "capture=cv2.VideoCapture(\"C:\\\\Users\\\\ROJA MOGILI\\\\Documents\\\\major\\\\multi-object-tracking\\\\multi-object-tracking\\\\videos\\\\los_angeles.mp4\")\n",
    "# creating old frames\n",
    "\n",
    "r,frame=capture.read()\n",
    "old_gray=cv2.cvtColor(frame,cv2.COLOR_BGR2GRAY)\n",
    "\n",
    "# lucas kanade params\n",
    "lk_params=dict(winSize=(15,15),maxLevel=2, criteria=(cv2.TERM_CRITERIA_EPS | cv2.TERM_CRITERIA_COUNT,10,0.03))\n",
    "\n",
    "while True:\n",
    "    ret,frame=capture.read()\n",
    "    if ret:\n",
    "        gray_frame=cv2.cvtColor(frame,cv2.COLOR_BGR2GRAY)\n",
    "        #print(ret)\n",
    "\n",
    "        if point_selected==True:\n",
    "            #cv2.circle(frame, point,6,(255,0,0),2)\n",
    "            new_point,status, error=cv2.calcOpticalFlowPyrLK(old_gray,gray_frame,old_points,None,**lk_params)\n",
    "            old_gray=gray_frame.copy()\n",
    "            old_points=new_point\n",
    "            x,y=new_point.ravel()\n",
    "            cv2.line(frame, point,(x,y),(255,0,0),3)\n",
    "            #cv2.circle(frame,(x,y),8,(255,0,0),2)\n",
    "        cv2.imshow(\"Video\",frame)   \n",
    "\n",
    "        if cv2.waitKey(100) & 0xFF==ord('q'):\n",
    "            break\n",
    "    else:\n",
    "        break\n",
    "capture.release()\n",
    "        \n",
    "cv2.destroyAllWindows()    "
   ]
  },
  {
   "cell_type": "code",
   "execution_count": null,
   "metadata": {},
   "outputs": [],
   "source": []
  },
  {
   "cell_type": "code",
   "execution_count": null,
   "metadata": {},
   "outputs": [],
   "source": []
  },
  {
   "cell_type": "code",
   "execution_count": null,
   "metadata": {},
   "outputs": [],
   "source": []
  }
 ],
 "metadata": {
  "kernelspec": {
   "display_name": "Python 3",
   "language": "python",
   "name": "python3"
  },
  "language_info": {
   "codemirror_mode": {
    "name": "ipython",
    "version": 3
   },
   "file_extension": ".py",
   "mimetype": "text/x-python",
   "name": "python",
   "nbconvert_exporter": "python",
   "pygments_lexer": "ipython3",
   "version": "3.7.1"
  }
 },
 "nbformat": 4,
 "nbformat_minor": 2
}
