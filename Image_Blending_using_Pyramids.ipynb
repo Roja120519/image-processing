{
 "cells": [
  {
   "cell_type": "markdown",
   "metadata": {},
   "source": [
    "#### Image Blending using Pyramids\n",
    "- One application of Pyramids is Image Blending<br><br>\n",
    "For example, <br>\n",
    "    In image stitching, you will need to stack two images together, but it may not look good due to discontinuities between images. In that case, image blending with Pyramids gives you seamless blending without leaving much data in the images."
   ]
  },
  {
   "cell_type": "markdown",
   "metadata": {},
   "source": [
    "#### steps\n",
    "1. Load the two images \n",
    "2. Find the Gaussian Pyramids for two images\n",
    "3. From Gaussian Pyramids, find their Laplacian Pyramids\n",
    "4. Now join the left half of image1 and right half of image2 in each levels of Laplacian Pyramids\n",
    "5. Finally from this joint image pyramids, reconstruct the original image."
   ]
  },
  {
   "cell_type": "code",
   "execution_count": 3,
   "metadata": {},
   "outputs": [],
   "source": [
    "import cv2\n",
    "import matplotlib.pyplot\n",
    "import numpy as np"
   ]
  },
  {
   "cell_type": "code",
   "execution_count": 8,
   "metadata": {},
   "outputs": [],
   "source": [
    "import cv2\n",
    "import numpy as np,sys\n",
    "A = cv2.imread('standard_test_images\\\\standard_test_images\\\\1.tif')\n",
    "B = cv2.imread('standard_test_images\\\\standard_test_images\\\\lena.tif')\n",
    "# generate Gaussian pyramid for A and B\n",
    "G = A.copy()\n",
    "gpA = [G]\n",
    "for i in range(6):\n",
    "    G = cv2.pyrDown(G)\n",
    "    gpA.append(G)\n",
    "    \n",
    "G = B.copy()\n",
    "gpB = [G]\n",
    "for i in range(6):\n",
    "    G = cv2.pyrDown(G)\n",
    "    gpB.append(G)\n",
    "    \n",
    "# generate Laplacian Pyramid for A and B\n",
    "lpA = [gpA[5]]\n",
    "for i in range(5,0,-1):\n",
    "    GE = cv2.pyrUp(gpA[i])\n",
    "    L = cv2.subtract(gpA[i-1],GE)\n",
    "    lpA.append(L)\n",
    "\n",
    "lpB = [gpB[5]]\n",
    "for i in range(5,0,-1):\n",
    "    GE = cv2.pyrUp(gpB[i])\n",
    "    L = cv2.subtract(gpB[i-1],GE)\n",
    "    lpB.append(L)\n",
    "    \n",
    "# Now add left and right halves of images in each level\n",
    "LS = []\n",
    "for la,lb in zip(lpA,lpB):\n",
    "    rows,cols,dpt = la.shape\n",
    "    ls = np.hstack((la[:,0:cols//2], lb[:,cols//2:]))\n",
    "    LS.append(ls)\n",
    "\n",
    "# now reconstruct\n",
    "ls = LS[0]\n",
    "for i in range(1,6):\n",
    "    ls = cv2.pyrUp(ls)\n",
    "    ls = cv2.add(ls, LS[i])\n",
    "# image with direct connecting each half\n",
    "real = np.hstack((A[:,:cols//2],B[:,cols//2:]))\n",
    "cv2.imwrite('standard_test_images\\\\output\\\\Pyramid_blending2.jpg',ls)\n",
    "cv2.imwrite('standard_test_images\\\\output\\\\Direct_blending.jpg',real)\n",
    "\n",
    "cv2.imshow('pyramid_blending',ls)\n",
    "cv2.imshow('direct_blending',real)\n",
    "cv2.waitKey(0)\n",
    "cv2.destroyAllWindows()"
   ]
  },
  {
   "cell_type": "code",
   "execution_count": null,
   "metadata": {},
   "outputs": [],
   "source": []
  }
 ],
 "metadata": {
  "kernelspec": {
   "display_name": "Python 3",
   "language": "python",
   "name": "python3"
  },
  "language_info": {
   "codemirror_mode": {
    "name": "ipython",
    "version": 3
   },
   "file_extension": ".py",
   "mimetype": "text/x-python",
   "name": "python",
   "nbconvert_exporter": "python",
   "pygments_lexer": "ipython3",
   "version": "3.7.1"
  }
 },
 "nbformat": 4,
 "nbformat_minor": 2
}
