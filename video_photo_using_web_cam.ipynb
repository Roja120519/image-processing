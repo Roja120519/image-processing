{
 "cells": [
  {
   "cell_type": "markdown",
   "metadata": {},
   "source": [
    "### Videos and photo taking\n",
    "- Reading Video\n",
    "    read frame-by-frame\n",
    "- Display Video\n",
    "    first read frame by frame then we will display <br>\n",
    "- Saving Video\n",
    "   - IT is lite difficult process comapred to image save\n",
    "   - create a VideoWriter object\n",
    "   - specify the output file name (eg: example.avi / example.mp4)\n",
    "   - specify the FourCC code\n",
    "       - FourCC is a 4-byte code used to specify the video codec\n",
    "       - list of FourCC codes available in fourcc.org web site\n",
    "       - platform dependent\n",
    "       - In Fedora: DIVX, XVID, MJPG, X264, WMV1, WMV2\n",
    "           - XVID is more preferable\n",
    "           - MJPG results in high size video\n",
    "           - X264 gives very small size video\n",
    "      - In Windows: DIVX (More to be tested and added)<br><br>\n",
    "       \n",
    "       - FourCC code is passed as cv2.VideoWriter_fourcc('M','J','P','G') or cv2.VideoWriter_fourcc(*'MJPG') for MJPG.<br><br>\n",
    "       \n",
    "   - number of frames per second (FpS) and frame size\n",
    "   - if one is isColor flag. If it is True, encoder expect color frame, otherwise it works with grayscale frame.\n",
    "   \n",
    "- Taking a photo using webcam\n",
    "- capture video by using Camera and display it.\n",
    "- When we are capturing a video we pass an integer\n",
    "    - 0 -> means  systems web cam\n",
    "    - other numbers we will use based on devices connected"
   ]
  },
  {
   "cell_type": "code",
   "execution_count": 1,
   "metadata": {},
   "outputs": [],
   "source": [
    "# To capture live stream with camera\n",
    "import cv2\n",
    "import numpy as np\n",
    "capture=cv2.VideoCapture(0)\n",
    "while True:\n",
    "    ret,frame=capture.read()\n",
    "    gray=cv2.cvtColor(frame,cv2.COLOR_BGR2GRAY)\n",
    "    cv2.imshow(\"gray\",gray)\n",
    "    cv2.imshow(\"video\",frame)\n",
    "    \n",
    "    #k=cv2.waitKey(0) & 0xFF\n",
    "    if cv2.waitKey(1) & 0xFF == ord('q'):\n",
    "        break\n",
    "capture.release()\n",
    "cv2.destroyAllWindows()"
   ]
  },
  {
   "cell_type": "code",
   "execution_count": 2,
   "metadata": {},
   "outputs": [
    {
     "name": "stdout",
     "output_type": "stream",
     "text": [
      "Press s key to take a photo and exit\n"
     ]
    }
   ],
   "source": [
    "# To take a photo using key and exit\n",
    "import cv2\n",
    "import numpy as np\n",
    "capture=cv2.VideoCapture(0)\n",
    "print(\"Press s key to take a photo and exit\")\n",
    "while True:\n",
    "    ret,frame=capture.read()\n",
    "    gray=cv2.cvtColor(frame,cv2.COLOR_BGR2GRAY)\n",
    "    cv2.imshow(\"gray\",gray)\n",
    "    cv2.imshow(\"video\",frame)\n",
    "    \n",
    "    if cv2.waitKey(1) & 0xFF == ord('s'):\n",
    "        cv2.imwrite(\"standard_test_images\\\\output\\\\photo_gray.tiff\",gray)\n",
    "        cv2.imwrite(\"standard_test_images\\\\output\\\\photo_color.tiff\",frame)\n",
    "        break\n",
    "capture.release()\n",
    "cv2.destroyAllWindows()"
   ]
  },
  {
   "cell_type": "code",
   "execution_count": 3,
   "metadata": {},
   "outputs": [],
   "source": [
    "# Playing a video default speed\n",
    "import cv2\n",
    "\n",
    "capture=cv2.VideoCapture(\"C:\\\\Users\\\\ROJA MOGILI\\\\Videos\\\\prakash\\\\Received\\\\Photo.mp4\")\n",
    "while True:\n",
    "    ret,frame=capture.read()\n",
    "    cv2.imshow(\"Video Player\",frame)\n",
    "    if cv2.waitKey(1) & 0xFF==ord('q'):\n",
    "        break\n",
    "capture.release()\n",
    "cv2.destroyAllWindows()"
   ]
  },
  {
   "cell_type": "code",
   "execution_count": 4,
   "metadata": {},
   "outputs": [],
   "source": [
    "# Playing a video with different frames per sec using waitkey   ----> 27 means Esc\n",
    "# If we use 1 in waiKey braces it will be default speed of the library defined\n",
    "# If in waitKey braces we use that value for slow down the video if value increases video goes slow,value decreases video go speed\n",
    "import cv2\n",
    "capture=cv2.VideoCapture(\"C:\\\\Users\\\\ROJA MOGILI\\\\Videos\\\\prakash\\\\Received\\\\Photo.mp4\")\n",
    "while capture.isOpened():\n",
    "    ret,frame=capture.read()\n",
    "    if ret:\n",
    "        cv2.imshow(\"playing Video\",frame)\n",
    "        if cv2.waitKey(10)==27:       \n",
    "            break\n",
    "    else:\n",
    "        break\n",
    "capture.release()\n",
    "cv2.destroyAllWindows()\n",
    "\n",
    "    "
   ]
  },
  {
   "cell_type": "code",
   "execution_count": 5,
   "metadata": {},
   "outputs": [],
   "source": [
    "#To save video using XVID fourcc code\n",
    "\n",
    "import numpy as np\n",
    "import cv2\n",
    "\n",
    "capture= cv2.VideoCapture(0)\n",
    "fourcc = cv2.VideoWriter_fourcc(*'XVID')\n",
    "out = cv2.VideoWriter('standard_test_images\\\\output\\\\video.avi',fourcc, 20.0, (640,480))\n",
    "\n",
    "while(capture.isOpened()):\n",
    "    ret, frame = capture.read()\n",
    "    if ret==True:\n",
    "        #frame = cv2.flip(frame,0)\n",
    "        out.write(frame)\n",
    "        cv2.imshow('frame',frame)\n",
    "        if cv2.waitKey(1) & 0xFF == ord('q'):\n",
    "            break\n",
    "    else:\n",
    "        break\n",
    "\n",
    "capture.release()\n",
    "out.release()\n",
    "cv2.destroyAllWindows()"
   ]
  },
  {
   "cell_type": "code",
   "execution_count": 6,
   "metadata": {},
   "outputs": [],
   "source": [
    "# To display and save video in flip (up becomes down and vice versa)\n",
    "\n",
    "import cv2\n",
    "import numpy as np\n",
    "capture=cv2.VideoCapture(0)\n",
    "fourcc=cv2.VideoWriter_fourcc(*'DIVX')\n",
    "video=cv2.VideoWriter('tandard_test_images\\\\output\\\\video_flip.mp4',fourcc,30.0,(640,480))\n",
    "\n",
    "while capture.isOpened():\n",
    "    ret,frame=capture.read()\n",
    "    if ret==True:\n",
    "        frame=cv2.flip(frame,0)\n",
    "        video.write(frame)\n",
    "        cv2.imshow(\"video_flip\",frame)\n",
    "        if cv2.waitKey(1) & 0xFF==ord('q'):\n",
    "            break\n",
    "    else:\n",
    "        break\n",
    "capture.release()\n",
    "video.release()\n",
    "cv2.destroyAllWindows()"
   ]
  },
  {
   "cell_type": "code",
   "execution_count": null,
   "metadata": {},
   "outputs": [],
   "source": []
  }
 ],
 "metadata": {
  "kernelspec": {
   "display_name": "Python 3",
   "language": "python",
   "name": "python3"
  },
  "language_info": {
   "codemirror_mode": {
    "name": "ipython",
    "version": 3
   },
   "file_extension": ".py",
   "mimetype": "text/x-python",
   "name": "python",
   "nbconvert_exporter": "python",
   "pygments_lexer": "ipython3",
   "version": "3.7.1"
  }
 },
 "nbformat": 4,
 "nbformat_minor": 2
}
