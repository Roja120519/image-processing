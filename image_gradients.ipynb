{
 "cells": [
  {
   "cell_type": "markdown",
   "metadata": {},
   "source": [
    "### Image gradients\n",
    "- cv2.Sobel()\n",
    "- cv2.Scharr()\n",
    "- cv2.Laplacian()"
   ]
  },
  {
   "cell_type": "markdown",
   "metadata": {},
   "source": [
    "#### 1. Sobel and Scharr Derivatives\n",
    "- Sobel operators is a joint Gausssian smoothing plus differentiation operation, so it is more resistant to noise.\n",
    "- You can specify the direction of derivatives to be taken, vertical or horizontal (by the arguments, yorder and xorder respectively). \n",
    "- You can also specify the size of kernel by the argument ksize. If ksize = -1, a 3x3 Scharr filter is used which gives better results than 3x3 Sobel filter"
   ]
  },
  {
   "cell_type": "markdown",
   "metadata": {},
   "source": [
    "### 2. Laplacian Derivatives\n",
    "- we deduce that the second derivative can be used to detect edges. Since images are “2D”, we would need to take the derivative in both dimensions. Here, the Laplacian operator comes handy\n",
    "- The Laplacian operator is defined by:"
   ]
  },
  {
   "cell_type": "code",
   "execution_count": 13,
   "metadata": {},
   "outputs": [
    {
     "data": {
      "text/latex": [
       "$\\displaystyle \\frac{d}{d x} x^{2} + \\frac{d}{d y} y^{2}$"
      ],
      "text/plain": [
       "Derivative(x**2, x) + Derivative(y**2, y)"
      ]
     },
     "execution_count": 13,
     "metadata": {},
     "output_type": "execute_result"
    }
   ],
   "source": [
    "from sympy import*\n",
    "x,y,f=symbols('x y f')\n",
    "Derivative(x**2)+Derivative(y**2)"
   ]
  },
  {
   "cell_type": "code",
   "execution_count": 1,
   "metadata": {},
   "outputs": [],
   "source": [
    "import cv2\n",
    "import numpy as np\n",
    "import matplotlib.pyplot as plt\n"
   ]
  },
  {
   "cell_type": "code",
   "execution_count": 6,
   "metadata": {},
   "outputs": [
    {
     "name": "stderr",
     "output_type": "stream",
     "text": [
      "Clipping input data to the valid range for imshow with RGB data ([0..1] for floats or [0..255] for integers).\n",
      "Clipping input data to the valid range for imshow with RGB data ([0..1] for floats or [0..255] for integers).\n",
      "Clipping input data to the valid range for imshow with RGB data ([0..1] for floats or [0..255] for integers).\n"
     ]
    },
    {
     "data": {
      "image/png": "[encoded data removed]",
      "text/plain": [
       "<Figure size 432x288 with 4 Axes>"
      ]
     },
     "metadata": {
      "needs_background": "light"
     },
     "output_type": "display_data"
    }
   ],
   "source": [
    "img=cv2.imread('standard_test_images\\\\standard_test_images\\\\gray.tiff')\n",
    "\n",
    "laplacian=cv2.Laplacian(img,cv2.CV_64F)\n",
    "sobelx=cv2.Sobel(img,cv2.CV_64F,0,1,ksize=5)\n",
    "sobely=cv2.Sobel(img,cv2.CV_64F,1,0,ksize=5)\n",
    "\n",
    "plt.subplot(141),plt.imshow(img),plt.title('img')\n",
    "plt.subplot(142),plt.imshow(laplacian),plt.title('laplacian')\n",
    "plt.subplot(143),plt.imshow(sobelx),plt.title('sobelx')\n",
    "plt.subplot(144),plt.imshow(sobely),plt.title('sobely')\n",
    "\n",
    "\n",
    "#plt.subplot(133),plt.imshow(),plt.title('laplacian')\n",
    "plt.show()"
   ]
  },
  {
   "cell_type": "code",
   "execution_count": null,
   "metadata": {},
   "outputs": [],
   "source": []
  }
 ],
 "metadata": {
  "kernelspec": {
   "display_name": "Python 3",
   "language": "python",
   "name": "python3"
  },
  "language_info": {
   "codemirror_mode": {
    "name": "ipython",
    "version": 3
   },
   "file_extension": ".py",
   "mimetype": "text/x-python",
   "name": "python",
   "nbconvert_exporter": "python",
   "pygments_lexer": "ipython3",
   "version": "3.7.1"
  }
 },
 "nbformat": 4,
 "nbformat_minor": 2
}
