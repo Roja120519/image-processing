{
 "cells": [
  {
   "cell_type": "markdown",
   "metadata": {},
   "source": [
    "### Morphological Transformations\n",
    "- Morphological transformations are some simple operations based on the image shape. It is normally performed on binary images. \n",
    "- It needs two inputs, one is our original image, second one is called structuring element or kernel which decides the nature of operation.\n",
    "- Two basic morphological operators are Erosion and Dilation. Then its variant forms like Opening, Closing, Gradient etc also comes into play."
   ]
  },
  {
   "cell_type": "markdown",
   "metadata": {},
   "source": [
    "#### erosion\n",
    "- It erodes away the boundaries of foreground object\n",
    "- a pixel in the original image will be considered 1 only if all the pixels under the kernel is 1,oterwise it is eroded (zero).\n",
    "- all the pixels near boundary will be discarded depending upon the size of kernel. So the thickness or size of the foreground object decreases or simply white region decreases in the image. \n",
    "- It is useful for removing small white noises detach two connected objects etc."
   ]
  },
  {
   "cell_type": "code",
   "execution_count": 4,
   "metadata": {},
   "outputs": [
    {
     "data": {
      "text/plain": [
       "(([], <a list of 0 Text xticklabel objects>),\n",
       " ([], <a list of 0 Text yticklabel objects>))"
      ]
     },
     "execution_count": 4,
     "metadata": {},
     "output_type": "execute_result"
    },
    {
     "data": {
      "image/png": "[encoded data removed]",
      "text/plain": [
       "<Figure size 432x288 with 2 Axes>"
      ]
     },
     "metadata": {},
     "output_type": "display_data"
    }
   ],
   "source": [
    "import cv2\n",
    "import numpy as np\n",
    "import matplotlib.pyplot as plt\n",
    "\n",
    "img=cv2.imread('standard_test_images\\\\standard_test_images\\\\1.png')\n",
    "kernel=np.ones((3,3),np.uint8)\n",
    "erosion=cv2.erode(img,kernel,iterations=3)\n",
    "plt.subplot(121),plt.imshow(img),plt.title('img')\n",
    "plt.xticks([]),plt.yticks([])\n",
    "plt.subplot(122),plt.imshow(erosion),plt.title('erosion')\n",
    "plt.xticks([]),plt.yticks([])\n"
   ]
  },
  {
   "cell_type": "markdown",
   "metadata": {},
   "source": [
    "#### dilation\n",
    "- opposite of erosion\n",
    "- a pixel element is ‘1’ if atleast one pixel under the kernel is ‘1’. So it increases the white region in the image or size of foreground object increases\n",
    "- in case like noise removal, erosion is folloed by dialtion because rosion remove white noises, but it also shricks our object.So we dilate it\n",
    "- Since we dilate it noise is gone,they won't come back,but our object area increases.It is also useful in joiing brocken parts of an image"
   ]
  },
  {
   "cell_type": "code",
   "execution_count": 8,
   "metadata": {},
   "outputs": [
    {
     "data": {
      "text/plain": [
       "(([], <a list of 0 Text xticklabel objects>),\n",
       " ([], <a list of 0 Text yticklabel objects>))"
      ]
     },
     "execution_count": 8,
     "metadata": {},
     "output_type": "execute_result"
    },
    {
     "data": {
      "image/png": "[encoded data removed]",
      "text/plain": [
       "<Figure size 432x288 with 2 Axes>"
      ]
     },
     "metadata": {},
     "output_type": "display_data"
    }
   ],
   "source": [
    "img=cv2.imread('standard_test_images\\\\standard_test_images\\\\1.png')\n",
    "kernel=np.ones((3,3),np.uint8)\n",
    "dilate=cv2.dilate(img,kernel,iterations=3)\n",
    "plt.subplot(121),plt.imshow(img),plt.title('img')\n",
    "plt.xticks([]),plt.yticks([])\n",
    "plt.subplot(122),plt.imshow(dilate),plt.title('dilate')\n",
    "plt.xticks([]),plt.yticks([])\n"
   ]
  },
  {
   "cell_type": "markdown",
   "metadata": {},
   "source": [
    "#### opening\n",
    "- erosion followed by dilation\n",
    "- It is useful in noise removal\n",
    "- we use function cv2.morphologyEx()\n"
   ]
  },
  {
   "cell_type": "code",
   "execution_count": 15,
   "metadata": {},
   "outputs": [
    {
     "data": {
      "text/plain": [
       "(([], <a list of 0 Text xticklabel objects>),\n",
       " ([], <a list of 0 Text yticklabel objects>))"
      ]
     },
     "execution_count": 15,
     "metadata": {},
     "output_type": "execute_result"
    },
    {
     "data": {
      "image/png": "[encoded data removed]",
      "text/plain": [
       "<Figure size 432x288 with 2 Axes>"
      ]
     },
     "metadata": {},
     "output_type": "display_data"
    }
   ],
   "source": [
    "img=cv2.imread('standard_test_images\\\\standard_test_images\\\\3.png')\n",
    "kernel=np.ones((5,5),np.uint8)\n",
    "opening=cv2.morphologyEx(img,cv2.MORPH_OPEN,kernel)\n",
    "plt.subplot(121),plt.imshow(img),plt.title('img')\n",
    "plt.xticks([]),plt.yticks([])\n",
    "plt.subplot(122),plt.imshow(opening),plt.title('opening')\n",
    "plt.xticks([]),plt.yticks([])\n"
   ]
  },
  {
   "cell_type": "code",
   "execution_count": 17,
   "metadata": {},
   "outputs": [
    {
     "data": {
      "text/plain": [
       "(([], <a list of 0 Text xticklabel objects>),\n",
       " ([], <a list of 0 Text yticklabel objects>))"
      ]
     },
     "execution_count": 17,
     "metadata": {},
     "output_type": "execute_result"
    },
    {
     "data": {
      "image/png": "[encoded data removed]",
      "text/plain": [
       "<Figure size 432x288 with 2 Axes>"
      ]
     },
     "metadata": {},
     "output_type": "display_data"
    }
   ],
   "source": [
    "img=cv2.imread('standard_test_images\\\\standard_test_images\\\\2.png')\n",
    "kernel=np.ones((5,5),np.uint8)\n",
    "closing=cv2.morphologyEx(img,cv2.MORPH_CLOSE,kernel)\n",
    "plt.subplot(121),plt.imshow(img),plt.title('img')\n",
    "plt.xticks([]),plt.yticks([])\n",
    "plt.subplot(122),plt.imshow(closing),plt.title('closing')\n",
    "plt.xticks([]),plt.yticks([])\n"
   ]
  },
  {
   "cell_type": "markdown",
   "metadata": {},
   "source": [
    "#### morphological gradient\n",
    "- It is difference between dilation and erosion of an image\n"
   ]
  },
  {
   "cell_type": "code",
   "execution_count": 19,
   "metadata": {},
   "outputs": [
    {
     "data": {
      "text/plain": [
       "(([], <a list of 0 Text xticklabel objects>),\n",
       " ([], <a list of 0 Text yticklabel objects>))"
      ]
     },
     "execution_count": 19,
     "metadata": {},
     "output_type": "execute_result"
    },
    {
     "data": {
      "image/png": "[encoded data removed]",
      "text/plain": [
       "<Figure size 432x288 with 2 Axes>"
      ]
     },
     "metadata": {},
     "output_type": "display_data"
    }
   ],
   "source": [
    "img=cv2.imread('standard_test_images\\\\standard_test_images\\\\1.png')\n",
    "kernel=np.ones((5,5),np.uint8)\n",
    "gradient=cv2.morphologyEx(img,cv2.MORPH_GRADIENT,kernel)\n",
    "plt.subplot(121),plt.imshow(img),plt.title('img')\n",
    "plt.xticks([]),plt.yticks([])\n",
    "plt.subplot(122),plt.imshow(gradient),plt.title('gradient')\n",
    "plt.xticks([]),plt.yticks([])\n"
   ]
  },
  {
   "cell_type": "markdown",
   "metadata": {},
   "source": [
    "#### top hat\n",
    "- It is difference between input image and opening of the image\n"
   ]
  },
  {
   "cell_type": "code",
   "execution_count": 31,
   "metadata": {},
   "outputs": [
    {
     "data": {
      "image/png": "[encoded data removed]",
      "text/plain": [
       "<Figure size 432x288 with 2 Axes>"
      ]
     },
     "metadata": {},
     "output_type": "display_data"
    }
   ],
   "source": [
    "img=cv2.imread('standard_test_images\\\\standard_test_images\\\\1.png')\n",
    "kernel=np.ones((2,2),np.uint8)\n",
    "tophat=cv2.morphologyEx(img,cv2.MORPH_TOPHAT,kernel)\n",
    "plt.subplot(121),plt.imshow(img),plt.title('img')\n",
    "plt.xticks([]),plt.yticks([])\n",
    "plt.subplot(122),plt.imshow(tophat),plt.title('tophat')\n",
    "plt.xticks([]),plt.yticks([])\n",
    "cv2.imshow('tophat',tophat)\n",
    "cv2.waitKey(0)\n",
    "cv2.destroyAllWindows()"
   ]
  },
  {
   "cell_type": "code",
   "execution_count": 32,
   "metadata": {},
   "outputs": [
    {
     "data": {
      "image/png": "[encoded data removed]",
      "text/plain": [
       "<Figure size 432x288 with 2 Axes>"
      ]
     },
     "metadata": {},
     "output_type": "display_data"
    }
   ],
   "source": [
    "img=cv2.imread('standard_test_images\\\\standard_test_images\\\\1.png')\n",
    "kernel=np.ones((2,2),np.uint8)\n",
    "tophat=cv2.morphologyEx(img,cv2.MORPH_BLACKHAT,kernel)\n",
    "plt.subplot(121),plt.imshow(img),plt.title('img')\n",
    "plt.xticks([]),plt.yticks([])\n",
    "plt.subplot(122),plt.imshow(tophat),plt.title('tophat')\n",
    "plt.xticks([]),plt.yticks([])\n",
    "cv2.imshow('tophat',tophat)\n",
    "cv2.waitKey(0)\n",
    "cv2.destroyAllWindows()"
   ]
  },
  {
   "cell_type": "markdown",
   "metadata": {},
   "source": [
    "#### structuring element\n",
    "- It is rectangular shape. \n",
    "- But in some cases, you may need elliptical/circular shaped kernels. So for this purpose, OpenCV has a function, cv2.getStructuringElement(). \n",
    "- You just pass the shape and size of the kernel, you get the desired kernel."
   ]
  },
  {
   "cell_type": "code",
   "execution_count": 35,
   "metadata": {},
   "outputs": [
    {
     "data": {
      "text/plain": [
       "array([[0, 0, 1, 0],\n",
       "       [1, 1, 1, 1],\n",
       "       [1, 1, 1, 1],\n",
       "       [1, 1, 1, 1]], dtype=uint8)"
      ]
     },
     "execution_count": 35,
     "metadata": {},
     "output_type": "execute_result"
    }
   ],
   "source": [
    "cv2.getStructuringElement(cv2.MORPH_ELLIPSE,(4,4))"
   ]
  },
  {
   "cell_type": "code",
   "execution_count": 36,
   "metadata": {},
   "outputs": [
    {
     "data": {
      "text/plain": [
       "array([[1, 1, 1, 1],\n",
       "       [1, 1, 1, 1],\n",
       "       [1, 1, 1, 1],\n",
       "       [1, 1, 1, 1]], dtype=uint8)"
      ]
     },
     "execution_count": 36,
     "metadata": {},
     "output_type": "execute_result"
    }
   ],
   "source": [
    "cv2.getStructuringElement(cv2.MORPH_RECT,(4,4))"
   ]
  },
  {
   "cell_type": "code",
   "execution_count": 37,
   "metadata": {},
   "outputs": [
    {
     "data": {
      "text/plain": [
       "array([[0, 0, 1, 0],\n",
       "       [0, 0, 1, 0],\n",
       "       [1, 1, 1, 1],\n",
       "       [0, 0, 1, 0]], dtype=uint8)"
      ]
     },
     "execution_count": 37,
     "metadata": {},
     "output_type": "execute_result"
    }
   ],
   "source": [
    "cv2.getStructuringElement(cv2.MORPH_CROSS,(4,4))"
   ]
  },
  {
   "cell_type": "code",
   "execution_count": null,
   "metadata": {},
   "outputs": [],
   "source": []
  }
 ],
 "metadata": {
  "kernelspec": {
   "display_name": "Python 3",
   "language": "python",
   "name": "python3"
  },
  "language_info": {
   "codemirror_mode": {
    "name": "ipython",
    "version": 3
   },
   "file_extension": ".py",
   "mimetype": "text/x-python",
   "name": "python",
   "nbconvert_exporter": "python",
   "pygments_lexer": "ipython3",
   "version": "3.7.1"
  }
 },
 "nbformat": 4,
 "nbformat_minor": 2
}
