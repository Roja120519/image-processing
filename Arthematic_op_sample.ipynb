{
 "cells": [
  {
   "cell_type": "markdown",
   "metadata": {},
   "source": [
    "### Arthematic Operations on images\n",
    "- Addition\n",
    "- Subtraction\n",
    "- multiplication\n",
    "- division\n",
    "- Image addition\n",
    "- Image blending\n",
    "- Bitwise Operations"
   ]
  },
  {
   "cell_type": "code",
   "execution_count": 7,
   "metadata": {},
   "outputs": [],
   "source": [
    "import cv2\n",
    "import numpy as np\n",
    "import matplotlib.pyplot as plt\n",
    "\n",
    "img1=cv2.imread(\"standard_test_images\\\\standard_test_images\\\\1.tiff\")\n",
    "img2=cv2.imread(\"standard_test_images\\\\standard_test_images\\\\3.tiff\")\n",
    "\n",
    "add=img1+img2\n",
    "sub=img1-img2\n",
    "mul=img1*img2\n",
    "div=img1/img2\n",
    "\n",
    "names=[add,sub,mul,div]\n",
    "titles=['add','sub','mul','div']\n",
    "for i in range(0,len(names),1):\n",
    "    cv2.imshow(titles[i],names[i])\n",
    "    \n",
    "cv2.waitKey(0)\n",
    "cv2.destroyAllWindows()"
   ]
  },
  {
   "cell_type": "code",
   "execution_count": 4,
   "metadata": {},
   "outputs": [
    {
     "name": "stdout",
     "output_type": "stream",
     "text": [
      "Shape (256, 256, 3)\n"
     ]
    }
   ],
   "source": [
    "import cv2\n",
    "img1=cv2.imread(\"standard_test_images\\\\standard_test_images\\\\3.tiff\")\n",
    "print(\"Shape\",img1.shape)\n",
    "#mg1=img1.reshape(200,200)\n",
    "#rint(\"After reshaping image shape:\",img1.shappe)"
   ]
  },
  {
   "cell_type": "code",
   "execution_count": 9,
   "metadata": {},
   "outputs": [],
   "source": [
    "# Image addition\n",
    "\n",
    "img=cv2.imread(\"standard_test_images\\\\standard_test_images\\\\1.tiff\")\n",
    "img1=cv2.imread(\"standard_test_images\\\\standard_test_images\\\\3.tiff\")\n",
    "img2=cv2.add(img,img1)\n",
    "A=img+img1\n",
    "cv2.imshow(\"Arthematic\",A)\n",
    "cv2.imshow(\"Addition image\",img2)\n",
    "cv2.waitKey(0)\n",
    "cv2.destroyAllWindows()\n"
   ]
  },
  {
   "cell_type": "code",
   "execution_count": 10,
   "metadata": {},
   "outputs": [
    {
     "name": "stdout",
     "output_type": "stream",
     "text": [
      "[[255]]\n",
      "[4]\n"
     ]
    }
   ],
   "source": [
    "import cv2\n",
    "import numpy as np\n",
    "img=np.uint8([250])\n",
    "img1=np.uint8([10])\n",
    "img2=cv2.add(img,img1)\n",
    "A=img+img1\n",
    "print(img2)\n",
    "print(A)"
   ]
  },
  {
   "cell_type": "markdown",
   "metadata": {},
   "source": [
    "#### Image blending\n",
    "- This is also image addition, but different weights are given to images so that it gives a feeling of blending or transparency.\n",
    "- Images are added as per the equation below:\n",
    "    - 𝑔(𝑥) = (1 − 𝛼)𝑓0(𝑥) + 𝛼𝑓1(𝑥)\n",
    "    - 𝛼 from [0,1]\n",
    "    - Actual equation is -->  𝑑𝑠𝑡 = 𝛼 · 𝑖𝑚𝑔1 + 𝛽 · 𝑖𝑚𝑔2 + 𝛾\n",
    "    - 𝛾 is taken as zero when 𝛼 + (1-𝛼)=1\n",
    "    "
   ]
  },
  {
   "cell_type": "code",
   "execution_count": 19,
   "metadata": {},
   "outputs": [],
   "source": [
    "# Image blending\n",
    "img=cv2.imread(\"standard_test_images\\\\standard_test_images\\\\1.tiff\")\n",
    "img1=cv2.imread(\"standard_test_images\\\\standard_test_images\\\\3.tiff\")\n",
    "img.shape\n",
    "img1.shape\n",
    "\n",
    "out=cv2.addWeighted(img1,0.3,img,0.7,0)\n",
    "cv2.imshow(\"output\",out)\n",
    "cv2.waitKey(0)\n",
    "cv2.destroyAllWindows()\n"
   ]
  },
  {
   "cell_type": "markdown",
   "metadata": {},
   "source": [
    "#### Bitwise Operations\n",
    "- bitwise AND, OR, NOT and XOR operations.\n",
    "- useful while extracting any part of the image\n",
    "- working with non-rectangular ROI (region of image)\n",
    "- "
   ]
  },
  {
   "cell_type": "code",
   "execution_count": 1,
   "metadata": {},
   "outputs": [
    {
     "name": "stdout",
     "output_type": "stream",
     "text": [
      "256 256 3\n"
     ]
    }
   ],
   "source": [
    "# Placing an image in another image on particular place based on ROI (region of image) by using bitwise\n",
    "import cv2\n",
    "img=cv2.imread(\"standard_test_images\\\\standard_test_images\\\\1.tiff\")\n",
    "img1=cv2.imread(\"standard_test_images\\\\standard_test_images\\\\2.tiff\")\n",
    "rows,cols,channels=img.shape\n",
    "print(rows,cols,channels)\n",
    "ROI=img1[0:rows,0:cols]\n",
    "\n",
    "img2gray = cv2.cvtColor(img,cv2.COLOR_BGR2GRAY)\n",
    "ret, mask = cv2.threshold(img2gray, 10, 255, cv2.THRESH_BINARY)\n",
    "mask_inv = cv2.bitwise_not(mask)\n",
    "\n",
    "img1_bg = cv2.bitwise_and(ROI,ROI,mask = mask_inv)\n",
    "\n",
    "img_fg = cv2.bitwise_and(img,img,mask = mask)\n",
    "\n",
    "dst = cv2.add(img1_bg,img_fg)\n",
    "img1[0:rows, 0:cols ] = dst\n",
    "cv2.imshow('res',img1)\n",
    "cv2.waitKey(0)\n",
    "cv2.destroyAllWindows()"
   ]
  },
  {
   "cell_type": "code",
   "execution_count": null,
   "metadata": {},
   "outputs": [],
   "source": []
  }
 ],
 "metadata": {
  "kernelspec": {
   "display_name": "Python 3",
   "language": "python",
   "name": "python3"
  },
  "language_info": {
   "codemirror_mode": {
    "name": "ipython",
    "version": 3
   },
   "file_extension": ".py",
   "mimetype": "text/x-python",
   "name": "python",
   "nbconvert_exporter": "python",
   "pygments_lexer": "ipython3",
   "version": "3.7.1"
  }
 },
 "nbformat": 4,
 "nbformat_minor": 2
}
