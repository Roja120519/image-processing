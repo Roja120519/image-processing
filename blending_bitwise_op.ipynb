{
 "cells": [
  {
   "cell_type": "markdown",
   "metadata": {},
   "source": [
    "#### Blending and Bitwise op\n",
    "- Explanation in arthematic operations "
   ]
  },
  {
   "cell_type": "code",
   "execution_count": 5,
   "metadata": {},
   "outputs": [],
   "source": [
    "import cv2\n",
    "import numpy as np\n",
    "\n",
    "img=cv2.imread(\"standard_test_images\\\\standard_test_images\\\\1.tiff\")\n",
    "img1=cv2.imread(\"standard_test_images\\\\standard_test_images\\\\3.tiff\")\n",
    "dist=cv2.addWeighted(img, 0.7, img1, 0.3, 0)\n",
    "\n",
    "cv2.imshow(\"dist\",dist)\n",
    "cv2.waitKey(0)\n",
    "cv2.destroyAllWindows()"
   ]
  },
  {
   "cell_type": "code",
   "execution_count": 8,
   "metadata": {},
   "outputs": [
    {
     "name": "stdout",
     "output_type": "stream",
     "text": [
      "256 256 3\n"
     ]
    }
   ],
   "source": [
    "# Placing an image in another image on particular place based on ROI (region of image) by using bitwise\n",
    "import cv2\n",
    "img=cv2.imread(\"standard_test_images\\\\standard_test_images\\\\1.tiff\")\n",
    "img1=cv2.imread(\"standard_test_images\\\\standard_test_images\\\\2.tiff\")\n",
    "rows,cols,channels=img.shape\n",
    "print(rows,cols,channels)\n",
    "ROI=img1[0:rows,0:cols]\n",
    "\n",
    "img2gray = cv2.cvtColor(img,cv2.COLOR_BGR2GRAY)\n",
    "ret, mask = cv2.threshold(img2gray, 10, 255, cv2.THRESH_BINARY)\n",
    "mask_inv = cv2.bitwise_not(mask)\n",
    "\n",
    "img1_bg = cv2.bitwise_and(ROI,ROI,mask = mask_inv)\n",
    "\n",
    "img_fg = cv2.bitwise_and(img,img,mask = mask)\n",
    "\n",
    "dst = cv2.add(img1_bg,img_fg)\n",
    "img1[0:rows, 0:cols ] = dst\n",
    "cv2.imshow('res',img1)\n",
    "cv2.waitKey(0)\n",
    "cv2.destroyAllWindows()"
   ]
  },
  {
   "cell_type": "code",
   "execution_count": null,
   "metadata": {},
   "outputs": [],
   "source": []
  },
  {
   "cell_type": "code",
   "execution_count": null,
   "metadata": {},
   "outputs": [],
   "source": []
  }
 ],
 "metadata": {
  "kernelspec": {
   "display_name": "Python 3",
   "language": "python",
   "name": "python3"
  },
  "language_info": {
   "codemirror_mode": {
    "name": "ipython",
    "version": 3
   },
   "file_extension": ".py",
   "mimetype": "text/x-python",
   "name": "python",
   "nbconvert_exporter": "python",
   "pygments_lexer": "ipython3",
   "version": "3.7.1"
  }
 },
 "nbformat": 4,
 "nbformat_minor": 2
}
