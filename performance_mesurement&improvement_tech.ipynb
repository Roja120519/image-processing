{
 "cells": [
  {
   "cell_type": "markdown",
   "metadata": {},
   "source": [
    "#### Performance Measurement and Improvement Techniques\n",
    "\n",
    "- time which is helpful in measuring the time of execution\n",
    "- profile helps to get detailed report on the code, like how much time each function in the code took, how many times the function was called etc.\n",
    "- "
   ]
  },
  {
   "cell_type": "markdown",
   "metadata": {},
   "source": [
    "##### Measurement performance\n",
    "- cv2.getTickCount \n",
    "    - function returns the number of clock-cycles\n",
    "    - call it before and after the function execution, you get number of clock-cycles used to execute a function.\n",
    "- cv2.getTickFrequency\n",
    "    - returns the clock cycles per second or frequency of clock cycles\n",
    "    - time of execution in seconds\n",
    "    "
   ]
  },
  {
   "cell_type": "code",
   "execution_count": null,
   "metadata": {},
   "outputs": [],
   "source": [
    "import cv2\n",
    "import time\n",
    "\n",
    "start=cv2.getTickCount()\n",
    "\n",
    "img=cv2.imread(\"standard_test_images\\\\standard_test_images\\\\1.tiff\")\n",
    "for i in range(1,10,2):\n",
    "    img=cv2.medianBlur(img,i)\n",
    "cv2.imshow(\"img\",img)\n",
    "cv2.waitKey(0)\n",
    "cv2.destroyAllWindows()\n",
    "end=cv2.getTickCount()\n",
    "\n",
    "print(\"Start time\",start)\n",
    "print(\"End time\",end)\n",
    "\n",
    "time=(end-start)/cv2.getTickFrequency()\n",
    "\n",
    "print(time)"
   ]
  },
  {
   "cell_type": "code",
   "execution_count": null,
   "metadata": {},
   "outputs": [],
   "source": [
    "import cv2\n",
    "import time\n",
    "\n",
    "s=time.time()\n",
    "\n",
    "img=cv2.imread(\"standard_test_images\\\\standard_test_images\\\\1.tiff\")\n",
    "for i in range(1,10,2):\n",
    "    img=cv2.medianBlur(img,i)\n",
    "cv2.imshow(\"img\",img)\n",
    "cv2.waitKey(0)\n",
    "cv2.destroyAllWindows()\n",
    "\n",
    "e=time.time()\n",
    "t=e-s\n",
    "\n",
    "print(\"Start time\",s)\n",
    "print(\"End time\",e)\n",
    "print(t)"
   ]
  },
  {
   "cell_type": "markdown",
   "metadata": {},
   "source": [
    "##### Default Optimization in OpenCV\n",
    "\n",
    "- Many of the OpenCV functions are optimized using SSE2, AVX etc. \n",
    "- It contains unoptimized code also. \n",
    "- if our system support these features, we should exploit them\n",
    "- It is enabled by default while compiling.\n",
    "    - OpenCV runs the optimized code if it is enabled, else it runs the unoptimized code.\n",
    "- You can use cv2.useOptimized() to check if it is enabled/disabled\n",
    "- cv2.setUseOptimized() to enable/disable it."
   ]
  },
  {
   "cell_type": "code",
   "execution_count": null,
   "metadata": {},
   "outputs": [],
   "source": [
    "cv2.useOptimized()"
   ]
  },
  {
   "cell_type": "code",
   "execution_count": null,
   "metadata": {},
   "outputs": [],
   "source": [
    "cv2.setUseOptimized(False)\n",
    "cv2.useOptimized()"
   ]
  },
  {
   "cell_type": "code",
   "execution_count": null,
   "metadata": {},
   "outputs": [],
   "source": [
    "cv2.setUseOptimized(True)\n",
    "cv2.useOptimized()"
   ]
  },
  {
   "cell_type": "markdown",
   "metadata": {},
   "source": [
    "- optimized median filter is 2x faster compared to unoptimized median filter"
   ]
  },
  {
   "cell_type": "code",
   "execution_count": null,
   "metadata": {},
   "outputs": [],
   "source": [
    "%timeit result_time=cv2.medianBlur(img,49)\n"
   ]
  },
  {
   "cell_type": "code",
   "execution_count": null,
   "metadata": {},
   "outputs": [],
   "source": [
    "cv2.setUseOptimized(False)\n",
    "print(cv2.useOptimized())\n",
    "%timeit result_time=cv2.medianBlur(img,49)"
   ]
  },
  {
   "cell_type": "markdown",
   "metadata": {},
   "source": [
    "##### Measuring Performance in IPython\n",
    "- to compare the performance of two similar operations\n",
    "- %timeit to perform\n",
    "- It runs the code several times to get more accurate results\n"
   ]
  },
  {
   "cell_type": "code",
   "execution_count": null,
   "metadata": {},
   "outputs": [],
   "source": [
    "x=5\n",
    "%timeit y=x**2"
   ]
  },
  {
   "cell_type": "code",
   "execution_count": null,
   "metadata": {},
   "outputs": [],
   "source": [
    "import numpy as np"
   ]
  },
  {
   "cell_type": "code",
   "execution_count": null,
   "metadata": {},
   "outputs": [],
   "source": [
    "x=np.uint([5])\n",
    "%timeit y=x*x"
   ]
  },
  {
   "cell_type": "code",
   "execution_count": null,
   "metadata": {},
   "outputs": [],
   "source": [
    "x=np.uint([5])\n",
    "%timeit y=x**2"
   ]
  },
  {
   "cell_type": "code",
   "execution_count": null,
   "metadata": {},
   "outputs": [],
   "source": [
    "x=np.uint(5)\n",
    "%timeit y=np.square(x)"
   ]
  },
  {
   "cell_type": "code",
   "execution_count": null,
   "metadata": {},
   "outputs": [],
   "source": [
    "x=5\n",
    "%timeit y=x*x"
   ]
  },
  {
   "cell_type": "markdown",
   "metadata": {},
   "source": [
    "##### Which one is better?\n",
    "\n",
    "- as we saw above x=5 and %timeit y=x*x is faster than otehrs"
   ]
  },
  {
   "cell_type": "markdown",
   "metadata": {},
   "source": [
    "- Python scalar operations are faster than Numpy scalar operations.\n",
    "- but numpy is better when we have large amount of data to process\n",
    "\n"
   ]
  },
  {
   "cell_type": "code",
   "execution_count": null,
   "metadata": {},
   "outputs": [],
   "source": [
    "%timeit count=cv2.countNonZero(img)"
   ]
  },
  {
   "cell_type": "code",
   "execution_count": null,
   "metadata": {},
   "outputs": [],
   "source": [
    "%timeit count=np.count_nonzero(img)"
   ]
  },
  {
   "cell_type": "markdown",
   "metadata": {},
   "source": [
    "- Opencv is much faster than numpy"
   ]
  },
  {
   "cell_type": "code",
   "execution_count": null,
   "metadata": {},
   "outputs": [],
   "source": []
  },
  {
   "cell_type": "markdown",
   "metadata": {},
   "source": [
    "#### Performance Optimization Techniques\n",
    "- Avoid using loops in Python as far as possible, especially double/triple loops etc. They are inherently slow.\n",
    "-  Vectorize the algorithm/code to the maximum possible extent because Numpy and OpenCV are optimized for vector operations.\n",
    "- Exploit the cache coherence.\n",
    "- Never make copies of array unless it is needed. Try to use views instead. Array copying is a costly operation."
   ]
  },
  {
   "cell_type": "code",
   "execution_count": null,
   "metadata": {},
   "outputs": [],
   "source": [
    "import numpy as np\n",
    "import cv2\n",
    "def human():\n",
    "    face_cascade = cv2.CascadeClassifier('haarcascade_frontalface_default.xml')\n",
    "\n",
    "    eye_cascade = cv2.CascadeClassifier('haarcascade_eye.xml')\n",
    "\n",
    "    img=cv2.imread(\"C:\\\\Users\\\\ROJA MOGILI\\\\Documents\\\\github\\\\1.jpg\")\n",
    "    #img=cv2.si\n",
    "    img=cv2.resize(img,(600,450))\n",
    "\n",
    "    gray = cv2.cvtColor(img, cv2.COLOR_BGR2GRAY)\n",
    "    faces = face_cascade.detectMultiScale(gray, 1.1, 3)\n",
    "    for (x,y,w,h) in faces:\n",
    "        cv2.putText(img, 'human' , (x+2,y+2),cv2.FONT_HERSHEY_SIMPLEX, 1.5, (255,255,255))\n",
    "        cv2.rectangle(img,(x-1,y-1),(x+w,y+h),(255,0,0),2)\n",
    "        roi_gray = gray[y:y+h, x:x+w]\n",
    "        roi_color = img[y:y+h, x:x+w]    \n",
    "        #eyes = eye_cascade.detectMultiScale(roi_gray)\n",
    "        #for (ex,ey,ew,eh) in eyes:\n",
    "         #   cv2.rectangle(roi_color,(ex,ey),(ex+ew,ey+eh),(0,255,0),2)\n",
    "\n",
    "\n",
    "    cat_cascade=cv2.CascadeClassifier('haarcascade_frontalcatface.xml')\n",
    "    cat_extended=cv2.CascadeClassifier('haarcascade_frontalcatface_extended.xml')\n",
    "\n",
    "    SF=1.12\n",
    "    N=2\n",
    "    gray=cv2.cvtColor(img,cv2.COLOR_BGR2GRAY)\n",
    "    cats=cat_cascade.detectMultiScale(gray,scaleFactor=SF,minNeighbors=N)\n",
    "    cat_ext=cat_extended.detectMultiScale(gray,scaleFactor=SF,minNeighbors=N)\n",
    "\n",
    "    for (x,y,w,h) in cats:\n",
    "        cv2.putText(img, 'cat' , (x+2,y+2),cv2.FONT_HERSHEY_SIMPLEX, 2, (0,0,225))\n",
    "        img=cv2.rectangle(img,(x,y),(x+w,y+h),(0,0,255),2)\n",
    "    for (x,y,w,h) in cat_ext:\n",
    "        cv2.putText(img, 'cat' , (x+2,y+2),cv2.FONT_HERSHEY_SIMPLEX, 1.5, (255,255,255))\n",
    "        img=cv2.rectangle(img,(x,y),(x+w,y+h),(0,0,255),2)\n",
    "\n",
    "    cv2.imshow(\"img\",img)\n",
    "    cv2.waitKey(0)\n",
    "    cv2.destroyAllWindows()\n",
    "human()"
   ]
  },
  {
   "cell_type": "code",
   "execution_count": null,
   "metadata": {},
   "outputs": [],
   "source": []
  }
 ],
 "metadata": {
  "kernelspec": {
   "display_name": "Python 3",
   "language": "python",
   "name": "python3"
  },
  "language_info": {
   "codemirror_mode": {
    "name": "ipython",
    "version": 3
   },
   "file_extension": ".py",
   "mimetype": "text/x-python",
   "name": "python",
   "nbconvert_exporter": "python",
   "pygments_lexer": "ipython3",
   "version": "3.7.1"
  }
 },
 "nbformat": 4,
 "nbformat_minor": 2
}
